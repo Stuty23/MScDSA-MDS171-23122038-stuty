{
 "cells": [
  {
   "cell_type": "code",
   "execution_count": 8,
   "metadata": {},
   "outputs": [],
   "source": [
    "def RMS(c_name , o_date , order , rate , quantity , guestcount):\n",
    "    file = open(\"RMS.txt\", \"a+\")\n",
    "    file.write(\"\\nName = \"+c_name)\n",
    "    file.write(\"\\nDate = \"+o_date)\n",
    "    file.write(\"\\nItem Code = \"+order)\n",
    "    file.write(\"\\nQuantity = \"+str(quantity))\n",
    "    file.write(\"\\nRate = \"+str(rate))\n",
    "    file.write(\"\\nGuestCount = \"+count)\n",
    "    file.write(\"\\n-----------------------------------------------------------------------------------------------------------\")\n",
    "    file.close()\n",
    "    return True\n",
    "    "
   ]
  },
  {
   "cell_type": "code",
   "execution_count": 14,
   "metadata": {},
   "outputs": [
    {
     "data": {
      "text/plain": [
       "True"
      ]
     },
     "execution_count": 14,
     "metadata": {},
     "output_type": "execute_result"
    }
   ],
   "source": [
    "c_name = input(\"Enter the Name here: \")\n",
    "o_date = input(\"Enter the date: \")\n",
    "order = input(\"Enter the item here: \")\n",
    "initial_rate = int(input(\"Enter the rate of the item: \"))\n",
    "quantity = int(input(\"Enter the quantity of the item\"))\n",
    "count = input(\"Enter the Guest Count: \")\n",
    "rate=initial_rate*quantity\n",
    "RMS(c_name , o_date , order , rate , quantity , count)"
   ]
  },
  {
   "cell_type": "code",
   "execution_count": 1,
   "metadata": {},
   "outputs": [
    {
     "name": "stdout",
     "output_type": "stream",
     "text": [
      "The total amount obtained in this day =  1410\n"
     ]
    }
   ],
   "source": [
    "#analysis\n",
    "salescount = 0\n",
    "with open(\"RMS.txt\" , \"r+\") as file :\n",
    "    for line in file:\n",
    "        if \"Rate\" in line:\n",
    "            \n",
    "            Rate = int(line.split(\"=\")[1].strip())\n",
    "            salescount += Rate\n",
    "print(\"The total amount obtained in this day = \" , salescount)\n",
    "    # print(\"The total amount of guests per day: \" , salescount)"
   ]
  },
  {
   "cell_type": "code",
   "execution_count": 17,
   "metadata": {},
   "outputs": [
    {
     "name": "stdout",
     "output_type": "stream",
     "text": [
      "The total Guest obtained in this day =  32\n"
     ]
    }
   ],
   "source": [
    "#analysis\n",
    "salescount = 0\n",
    "with open(\"RMS.txt\" , \"r+\") as file :\n",
    "    for line in file:\n",
    "        if \"GuestCount\" in line:\n",
    "            \n",
    "            Rate = int(line.split(\"=\")[1].strip())\n",
    "            salescount += Rate\n",
    "print(\"The total Guest obtained in this day = \" , salescount)\n",
    "    # print(\"The total amount of guests per day: \" , salescount)"
   ]
  },
  {
   "cell_type": "code",
   "execution_count": null,
   "metadata": {},
   "outputs": [],
   "source": []
  }
 ],
 "metadata": {
  "kernelspec": {
   "display_name": "Python 3",
   "language": "python",
   "name": "python3"
  },
  "language_info": {
   "codemirror_mode": {
    "name": "ipython",
    "version": 3
   },
   "file_extension": ".py",
   "mimetype": "text/x-python",
   "name": "python",
   "nbconvert_exporter": "python",
   "pygments_lexer": "ipython3",
   "version": "3.11.1"
  },
  "orig_nbformat": 4
 },
 "nbformat": 4,
 "nbformat_minor": 2
}
