{
 "cells": [
  {
   "cell_type": "code",
   "execution_count": 5,
   "metadata": {},
   "outputs": [],
   "source": [
    "values=[761, 123, 585, 275, 194, 840, 999, 622, 763, 40, 825, 687, 402, 338, 611, 987, 739, 95, 819, 568, 320, 126, 688, 948, 514, 223, 751, 379, 857, 767, 492, 162, 437, 934, 430, 343, 725, 511, 580, 678, 708, 823, 346, 179, 786, 663, 195, 890, 267, 502, 214, 300, 786, 961, 235, 559, 992, 919, 948, 318, 57, 787, 653, 317, 305, 172, 966, 182, 970, 17, 89, 624, 629, 595, 485, 752, 984, 978, 460, 124, 321, 256, 614, 852, 811, 561, 127, 207, 406, 615, 888, 391, 691, 470, 911, 401, 137, 600, 478, 682]"
   ]
  },
  {
   "cell_type": "code",
   "execution_count": 84,
   "metadata": {},
   "outputs": [
    {
     "name": "stdout",
     "output_type": "stream",
     "text": [
      "Mean is =  542.94\n",
      "Minimum =  17\n",
      "Maximum =  999\n",
      "Range =  982\n"
     ]
    }
   ],
   "source": [
    "def rangemean(values):\n",
    "    l=0\n",
    "    s=0\n",
    "    for i in values:\n",
    "        l=l+1\n",
    "        s=s+i\n",
    "        mean=s/l\n",
    "    print(\"Mean is = \" , mean)\n",
    "rangemean(values)\n",
    "\n",
    "\n",
    "\n",
    "def minim(values):\n",
    "    mi=values[0]\n",
    "    for i in values:\n",
    "        if mi>i:\n",
    "            mi=i\n",
    "    return mi\n",
    "print(\"Minimum = \",minum(values))\n",
    "min=minim(values)\n",
    "\n",
    "\n",
    "\n",
    "def maxim(values):\n",
    "    ma=values[0]\n",
    "    for i in values:\n",
    "        if ma<i:\n",
    "            ma=i\n",
    "    return ma\n",
    "print(\"Maximum = \",maxim(values))\n",
    "max=maxim(values)\n",
    "\n",
    "def rng(min,max):\n",
    "    rang=max-min\n",
    "    print(\"Range = \" , rang)\n",
    "rng(min,max)\n",
    "\n",
    "\n"
   ]
  },
  {
   "cell_type": "code",
   "execution_count": null,
   "metadata": {},
   "outputs": [],
   "source": []
  }
 ],
 "metadata": {
  "kernelspec": {
   "display_name": "Python 3",
   "language": "python",
   "name": "python3"
  },
  "language_info": {
   "codemirror_mode": {
    "name": "ipython",
    "version": 3
   },
   "file_extension": ".py",
   "mimetype": "text/x-python",
   "name": "python",
   "nbconvert_exporter": "python",
   "pygments_lexer": "ipython3",
   "version": "3.11.1"
  },
  "orig_nbformat": 4
 },
 "nbformat": 4,
 "nbformat_minor": 2
}
