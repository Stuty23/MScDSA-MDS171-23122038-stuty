{
 "cells": [
  {
   "cell_type": "markdown",
   "metadata": {},
   "source": [
    "### Mix & Match Calculator"
   ]
  },
  {
   "cell_type": "code",
   "execution_count": 132,
   "metadata": {},
   "outputs": [],
   "source": [
    "\n",
    "import random\n",
    "items=[\"Milk\",\"Coffee\",\"Sugar\",\"Potato\",\"onion\",\"Garlic\",\"Tomato\",\"Ghee\",\"Porotta\",\"Rice\"]\n",
    "quantity=[\"2\",\"4\",\"6\",\"8\",\"10\",\"1\",\"3\",\"5\",\"7\",\"9\"]\n",
    "price=[\"28\",\"20\",\"40\",\"60\",\"40\",\"15\",\"60\",\"80\",\"12\",\"50\"]\n",
    "file = open(\"23122038.csv\",\"w+\")\n",
    "for i in range(100):\n",
    "    item=random.randint(0,9)\n",
    "    intquantity = int(quantity[item])\n",
    "    intprice = int(price[item])\n",
    "    total=intquantity*intprice\n",
    "    tootal=str (total)\n",
    "    file.write(items[item]+\",\"+quantity[item]+\",\"+price[item]+\"\\t Total = \"+tootal+\"\\n\") \n"
   ]
  },
  {
   "cell_type": "code",
   "execution_count": 133,
   "metadata": {},
   "outputs": [
    {
     "name": "stdout",
     "output_type": "stream",
     "text": [
      "Milk,2,28\t Total = 56\n",
      "\n",
      "Ghee,5,80\t Total = 400\n",
      "\n",
      "Coffee,4,20\t Total = 80\n",
      "\n",
      "Rice,9,50\t Total = 450\n",
      "\n",
      "Ghee,5,80\t Total = 400\n",
      "\n"
     ]
    }
   ],
   "source": [
    "with open(\"23122038.csv\",\"+r\")as file:\n",
    "    for x in range(5):\n",
    "        lines=file.readline()\n",
    "        print(lines)"
   ]
  },
  {
   "cell_type": "code",
   "execution_count": 134,
   "metadata": {},
   "outputs": [
    {
     "name": "stdout",
     "output_type": "stream",
     "text": [
      "Tomato,3,60\t Total = 180\n",
      "\n",
      "Sugar,6,40\t Total = 240\n",
      "\n",
      "Rice,9,50\t Total = 450\n",
      "\n",
      "Garlic,1,15\t Total = 15\n",
      "\n",
      "Coffee,4,20\t Total = 80\n",
      "\n",
      "Ghee,5,80\t Total = 400\n",
      "\n",
      "Milk,2,28\t Total = 56\n",
      "\n",
      "Rice,9,50\t Total = 450\n",
      "\n",
      "Sugar,6,40\t Total = 240\n",
      "\n",
      "Milk,2,28\t Total = 56\n",
      "\n"
     ]
    }
   ],
   "source": [
    "with open(\"23122038.csv\",\"+r\")as file:\n",
    "    lines=file.readlines()\n",
    "    total_lines = len(lines)\n",
    "    for i in range(total_lines-10,total_lines):\n",
    "        line2 = lines[i]\n",
    "        print(line2)"
   ]
  },
  {
   "cell_type": "code",
   "execution_count": 135,
   "metadata": {},
   "outputs": [
    {
     "name": "stdout",
     "output_type": "stream",
     "text": [
      "Total business for porotta is =  8\n",
      "Total business for rice is =  14\n",
      "Total business for Milk is =  11\n",
      "Total business for Sugar is =  7\n",
      "Total business for Coffee is =  13\n",
      "Total business for Potato is =  6\n",
      "Total business for Tomato is =  8\n",
      "Total business for Onion is =  4\n",
      "Total business for Garlic is =  13\n",
      "Total business for Ghee is =  16\n"
     ]
    }
   ],
   "source": [
    "r=0\n",
    "p=0\n",
    "m=0\n",
    "s=0\n",
    "c=0\n",
    "po=0\n",
    "t=0\n",
    "o=0\n",
    "g=0\n",
    "gh=0\n",
    "\n",
    "with open(\"23122038.csv\",\"r+\") as file:\n",
    "    for lines in file:\n",
    "        if \"Rice\" in lines:\n",
    "            r+=1\n",
    "        if \"Porotta\" in lines:\n",
    "            p+=1\n",
    "        if \"Milk\" in lines:\n",
    "            m+=1\n",
    "        if \"Sugar\" in lines:\n",
    "            s+=1\n",
    "        if \"Coffee\" in lines:\n",
    "            c+=1\n",
    "        if \"Potato\" in lines:\n",
    "            po+=1\n",
    "        if \"Tomato\" in lines:\n",
    "            t+=1\n",
    "        if \"onion\" in lines:\n",
    "            o+=1\n",
    "        if \"Garlic\" in lines:\n",
    "            g+=1\n",
    "        if \"Ghee\" in lines:\n",
    "            gh+=1\n",
    "            \n",
    "print(\"Total business for porotta is = \",p)\n",
    "print(\"Total business for rice is = \",r)\n",
    "print(\"Total business for Milk is = \",m)\n",
    "print(\"Total business for Sugar is = \",s)\n",
    "print(\"Total business for Coffee is = \",c)\n",
    "print(\"Total business for Potato is = \",po)\n",
    "print(\"Total business for Tomato is = \",t)\n",
    "print(\"Total business for Onion is = \",o)\n",
    "print(\"Total business for Garlic is = \",g)\n",
    "print(\"Total business for Ghee is = \",gh)"
   ]
  },
  {
   "cell_type": "code",
   "execution_count": 136,
   "metadata": {},
   "outputs": [
    {
     "name": "stdout",
     "output_type": "stream",
     "text": [
      "11\n",
      "8\n"
     ]
    }
   ],
   "source": [
    "with open(\"23122038.csv\",\"+r\")as file:\n",
    "    count=0\n",
    "    sum=0\n",
    "    for line in file.readlines():\n",
    "        t2=line.strip().split(\"\\t\")\n",
    "        if t2[0] == \"Rice\":\n",
    "            m = max(price)\n",
    "            p = min(price)\n",
    "    print(m)\n",
    "    print(p)\n"
   ]
  },
  {
   "cell_type": "code",
   "execution_count": null,
   "metadata": {},
   "outputs": [],
   "source": []
  }
 ],
 "metadata": {
  "kernelspec": {
   "display_name": "Python 3",
   "language": "python",
   "name": "python3"
  },
  "language_info": {
   "codemirror_mode": {
    "name": "ipython",
    "version": 3
   },
   "file_extension": ".py",
   "mimetype": "text/x-python",
   "name": "python",
   "nbconvert_exporter": "python",
   "pygments_lexer": "ipython3",
   "version": "3.11.1"
  },
  "orig_nbformat": 4
 },
 "nbformat": 4,
 "nbformat_minor": 2
}
