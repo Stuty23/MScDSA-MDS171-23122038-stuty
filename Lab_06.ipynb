{
 "cells": [
  {
   "cell_type": "markdown",
   "metadata": {},
   "source": [
    "### Vowel Counter!"
   ]
  },
  {
   "cell_type": "code",
   "execution_count": 62,
   "metadata": {},
   "outputs": [],
   "source": [
    "def vowels():      #defining function\n",
    "\t\n",
    "    str = input(\"Enter the string = \")  #user input\n",
    "    vowel = 0\n",
    "    length_str = len(str)    #for total length of the string\n",
    "    print(str)               #printing the string \n",
    "    print(\"The total length of the string is: \",length_str)     #printing the length of the string\n",
    "    for i in str:                                       #using for loop\n",
    "        if (i == 'a' or i == 'e' or i == 'i' or i == 'o' or i == 'u'\n",
    "            or i == 'A' or i == 'E' or i == 'I' or i == 'O' or i == 'U'):       #if function to check the vowels\n",
    "            vowel += 1\n",
    " \n",
    "    print(\"Count of Vowels = \", vowel)      #printing the no. of vowels in the string\n",
    "\n",
    "    a1=0\n",
    "    e1=0\n",
    "    i1=0\n",
    "    o1=0\n",
    "    u1=0\n",
    "    #checking the occurance of each vowel and then printing the count of vowels\n",
    "    for i in str:\n",
    "        if i=='a'or i=='A':\n",
    "            a1+=1\n",
    "        elif i=='e'or i=='E':\n",
    "            e1+=1\n",
    "        elif i=='i'or i=='I':\n",
    "            i1+=1\n",
    "        elif i=='o'or i=='O':\n",
    "            o1+=1\n",
    "        elif i=='u'or i=='U':\n",
    "            u1+=1\n",
    "    print(\"THE A VOWELS IN THE STRINGS\",a1)\n",
    "    print(\"THE E VOWELS IN THE STRINGS\",e1)\n",
    "    print(\"THE I VOWELS IN THE STRINGS\",i1)\n",
    "    print(\"THE O VOWELS IN THE STRINGS\",o1)\n",
    "    print(\"THE U VOWELS IN THE STRINGS\",u1)\n",
    "\n",
    "    #calculating the percentage if vowel\n",
    "    percentage = 0\n",
    "    float(percentage)\n",
    "    percentage = (vowel/length_str)*100              #percentage formula\n",
    "    print(\"The percentage of strings in the vowels are: \", percentage)   #printing the percentage of vowels in the string\n"
   ]
  },
  {
   "cell_type": "code",
   "execution_count": 63,
   "metadata": {},
   "outputs": [
    {
     "name": "stdout",
     "output_type": "stream",
     "text": [
      "siddharth nautiyAl\n",
      "The total length of the string is:  18\n",
      "Count of Vowels =  6\n",
      "THE A VOWELS IN THE STRINGS 3\n",
      "THE E VOWELS IN THE STRINGS 0\n",
      "THE I VOWELS IN THE STRINGS 2\n",
      "THE O VOWELS IN THE STRINGS 0\n",
      "THE U VOWELS IN THE STRINGS 1\n",
      "The percentage of strings in the vowels are:  33.33333333333333\n"
     ]
    }
   ],
   "source": [
    "vowels() #function call\n"
   ]
  },
  {
   "cell_type": "code",
   "execution_count": 64,
   "metadata": {},
   "outputs": [
    {
     "name": "stdout",
     "output_type": "stream",
     "text": [
      "Tanuja gupta\n",
      "The total length of the string is:  12\n",
      "Count of Vowels =  5\n",
      "THE A VOWELS IN THE STRINGS 3\n",
      "THE E VOWELS IN THE STRINGS 0\n",
      "THE I VOWELS IN THE STRINGS 0\n",
      "THE O VOWELS IN THE STRINGS 0\n",
      "THE U VOWELS IN THE STRINGS 2\n",
      "The percentage of strings in the vowels are:  41.66666666666667\n"
     ]
    }
   ],
   "source": [
    "vowels()   #function call"
   ]
  },
  {
   "cell_type": "code",
   "execution_count": 65,
   "metadata": {},
   "outputs": [
    {
     "name": "stdout",
     "output_type": "stream",
     "text": [
      "Stuty Das\n",
      "The total length of the string is:  9\n",
      "Count of Vowels =  2\n",
      "THE A VOWELS IN THE STRINGS 1\n",
      "THE E VOWELS IN THE STRINGS 0\n",
      "THE I VOWELS IN THE STRINGS 0\n",
      "THE O VOWELS IN THE STRINGS 0\n",
      "THE U VOWELS IN THE STRINGS 1\n",
      "The percentage of strings in the vowels are:  22.22222222222222\n"
     ]
    }
   ],
   "source": [
    "vowels()  #function call"
   ]
  }
 ],
 "metadata": {
  "kernelspec": {
   "display_name": "Python 3",
   "language": "python",
   "name": "python3"
  },
  "language_info": {
   "codemirror_mode": {
    "name": "ipython",
    "version": 3
   },
   "file_extension": ".py",
   "mimetype": "text/x-python",
   "name": "python",
   "nbconvert_exporter": "python",
   "pygments_lexer": "ipython3",
   "version": "3.11.1"
  },
  "orig_nbformat": 4
 },
 "nbformat": 4,
 "nbformat_minor": 2
}
