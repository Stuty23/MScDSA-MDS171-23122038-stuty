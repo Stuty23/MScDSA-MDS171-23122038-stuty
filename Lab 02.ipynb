{
 "cells": [
  {
   "cell_type": "code",
   "execution_count": 18,
   "metadata": {},
   "outputs": [],
   "source": [
    "nameList=[]"
   ]
  },
  {
   "cell_type": "code",
   "execution_count": 29,
   "metadata": {},
   "outputs": [],
   "source": [
    "def insertname(nameList): #declaration of function\n",
    "    f=0\n",
    "    name = input(\"Enter Name:\")\n",
    "    if name=='q':\n",
    "        print(\"please enter the name correctly: \")\n",
    "        print(\"nameList\")\n",
    "    else:\n",
    "        name=name.title() #to change the initial character in each word to uppercase and subsequent char to lower case\n",
    "        new_name=name\n",
    "        new_name=new_name.replace(\" \",\"\") \n",
    "        tf=new_name.isalpha()\n",
    "    if name in nameList:\n",
    "        print(\"Name already exist\")\n",
    "        f=1\n",
    "    if tf==True and f==0:\n",
    "        nameList.append(name)\n",
    "        print(\"Name added sucessfully\")\n",
    "    else:\n",
    "        print(\"Name not saved\")\n",
    "\n",
    "\n",
    "    "
   ]
  },
  {
   "cell_type": "code",
   "execution_count": 27,
   "metadata": {},
   "outputs": [
    {
     "name": "stdout",
     "output_type": "stream",
     "text": [
      "Name added sucessfully\n",
      "['Naveen', 'Scooty', 'Ria', 'Scuttyyyyy']\n",
      "The largest name:  Scuttyyyyy\n",
      "The smallest name:  Ria\n"
     ]
    }
   ],
   "source": [
    "insertname(nameList) #function call\n",
    "print(nameList)\n",
    "largest=max(nameList , key=len) #returns the name with maximum no. of characters\n",
    "smallest=min(nameList, key=len)  #returns the item with minimum no. of characters\n",
    "print(\"The largest name: \" , largest)\n",
    "print(\"The smallest name: \" , smallest)\n"
   ]
  },
  {
   "cell_type": "code",
   "execution_count": null,
   "metadata": {},
   "outputs": [],
   "source": []
  }
 ],
 "metadata": {
  "kernelspec": {
   "display_name": "Python 3",
   "language": "python",
   "name": "python3"
  },
  "language_info": {
   "codemirror_mode": {
    "name": "ipython",
    "version": 3
   },
   "file_extension": ".py",
   "mimetype": "text/x-python",
   "name": "python",
   "nbconvert_exporter": "python",
   "pygments_lexer": "ipython3",
   "version": "3.11.1"
  },
  "orig_nbformat": 4
 },
 "nbformat": 4,
 "nbformat_minor": 2
}
